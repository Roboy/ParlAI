{
 "cells": [
  {
   "cell_type": "markdown",
   "metadata": {},
   "source": [
    "## Model Hacking"
   ]
  },
  {
   "cell_type": "code",
   "execution_count": 12,
   "metadata": {},
   "outputs": [
    {
     "name": "stdout",
     "output_type": "stream",
     "text": [
      "[ no model with opt yet at: /Users/christoph/Documents/Roboy/ss18_showmaster/ParlAI/projects/roboy/ros_integration/../../../data/models/convai2/profilememory/profilememory_convai2_model(.opt) ]\n",
      "Dictionary: loading dictionary from /Users/christoph/Documents/Roboy/ss18_showmaster/ParlAI/projects/roboy/ros_integration/../../../data/models/convai2/profilememory/profilememory_convai2.dict\n",
      "[ num words =  18803 ]\n",
      "Loading existing model params from /Users/christoph/Documents/Roboy/ss18_showmaster/ParlAI/projects/roboy/ros_integration/../../../data/models/convai2/profilememory/profilememory_convai2_model\n",
      "Overriding option [ numlayers: 2 => 1]\n",
      "Overriding option [ personachat_useprevdialog: True => False]\n",
      "Overriding option [ personachat_sharelt: False => True]\n"
     ]
    },
    {
     "name": "stderr",
     "output_type": "stream",
     "text": [
      "/Users/christoph/Documents/Roboy/FacebookResearch/venvFB/lib/python3.6/site-packages/torch/nn/modules/rnn.py:38: UserWarning: dropout option adds dropout after all but last recurrent layer, so non-zero dropout expects num_layers greater than 1, but got dropout=0.1 and num_layers=1\n",
      "  \"num_layers={}\".format(dropout, num_layers))\n"
     ]
    },
    {
     "name": "stdout",
     "output_type": "stream",
     "text": [
      "[creating task(s): parlai.agents.local_human.local_human:LocalHumanAgent]\n"
     ]
    }
   ],
   "source": [
    "### when this works copy this bit of code to the gnlp_ros_srv.py ###\n",
    "\n",
    "### set paths ###\n",
    "ros_integration_home = os.getcwd()\n",
    "# Mac\n",
    "#parlai_home = '/Users/christoph/Documents/Roboy/ss18_showmaster/ParlAI'\n",
    "# Ubuntu\n",
    "#parlai_home = '/home/christoph/Documents/Roboy/ss18_showmaster/ParlAI'\n",
    "download_path = ros_integration_home + '/../../../downloads'\n",
    "datapath = ros_integration_home + '/../../../data'\n",
    "\n",
    "model_path = ros_integration_home + '/../../../data/models/convai2/profilememory/180812_1405' #180813_1000_pretrained'\n",
    "model_file = model_path + '/roboy_profilemem'\n",
    "dict_file = model_path + '/roboy_profilemem.dict'\n",
    "\n",
    "# pretrained\n",
    "model_file = ros_integration_home + '/../../../data/models/convai2/profilememory/profilememory_convai2_model'\n",
    "dict_file = ros_integration_home + '/../../../data/models/convai2/profilememory/profilememory_convai2.dict'\n",
    "\n",
    "personachat_code = 'projects.roboy.ros_integration.roboys_persona_seq2seq:PersonachatSeqseqAgentSplit'\n",
    "\n",
    "### prepare the model ###\n",
    "from parlai.core.agents import create_agent\n",
    "from ROS_worlds import create_task\n",
    "\n",
    "opt = {'task': None, 'download_path': download_path, \\\n",
    "       'datatype': 'train', 'image_mode': 'raw', 'numthreads': 1, 'hide_labels': False, 'batchsize': 1, \\\n",
    "       'include_labels': True, 'datapath': datapath, \\\n",
    "       'model': personachat_code, \\\n",
    "       'model_file': model_file, \\\n",
    "       'dict_class': None, 'display_examples': False, 'image_size': 256, 'image_cropsize': 224, \\\n",
    "       'dict_file': dict_file, \\\n",
    "       'dict_initpath': None, 'dict_language': 'english', 'dict_max_ngram_size': -1, 'dict_minfreq': 0, \\\n",
    "       'dict_maxtokens': -1, 'dict_nulltoken': '__NULL__', 'dict_starttoken': '__START__', 'dict_endtoken': '__END__', \\\n",
    "       'dict_unktoken': '__UNK__', 'dict_tokenizer': 'split', 'dict_lower': False, 'hiddensize': 1024, \\\n",
    "       'embeddingsize': 300, 'numlayers': 2, 'learningrate': 0.5, 'dropout': 0.1, 'bidirectional': False, \\\n",
    "       'attention': 'general', 'no_cuda': False, 'gpu': -1, 'rank_candidates': False, 'truncate': -1, 'encoder': 'lstm', \\\n",
    "       'decoder': 'same', 'optimizer': 'adam', 'personachat_useprevdialog': True, 'personachat_printattn': False, \\\n",
    "       'personachat_attnsentlevel': True, 'personachat_sharelt': False, 'personachat_reweight': 'use', \\\n",
    "       'personachat_guidesoftmax': False, 'personachat_newsetting': '', 'personachat_interact': False, \\\n",
    "       'personachat_pdmn': False, 'personachat_tfidfperp': False, 'personachat_learnreweight': True, \\\n",
    "       'personachat_embshareonly_pm_dec': False, 'personachat_s2sinit': False, 'interactive_mode': True, \\\n",
    "       'use_persona': 'self', 'parlai_home': parlai_home, 'override': {}, \\\n",
    "       'starttime': 'Jun15_16-58'}\n",
    "opt['model_type'] = 'profilememory' # for builder\n",
    "\n",
    "opt['task'] = 'parlai.agents.local_human.local_human:LocalHumanAgent'\n",
    "\n",
    "### Create model and assign it to the specified task ###\n",
    "agent = create_agent(opt, requireModelExists=True)\n",
    "world = create_task(opt, agent)"
   ]
  },
  {
   "cell_type": "code",
   "execution_count": 14,
   "metadata": {},
   "outputs": [
    {
     "name": "stdout",
     "output_type": "stream",
     "text": [
      "[Seq2Seq]: i am a robot . i am a robot .\n"
     ]
    },
    {
     "name": "stderr",
     "output_type": "stream",
     "text": [
      "/Users/christoph/Documents/Roboy/ss18_showmaster/ParlAI/projects/roboy/ros_integration/roboys_persona_seq2seq.py:1775: UserWarning: Implicit dimension choice for softmax has been deprecated. Change the call to include dim=X as an argument.\n",
      "  attn_weights = F.softmax(attn_w_premask)\n",
      "/Users/christoph/Documents/Roboy/ss18_showmaster/ParlAI/projects/roboy/ros_integration/roboys_persona_seq2seq.py:1519: UserWarning: Implicit dimension choice for log_softmax has been deprecated. Change the call to include dim=X as an argument.\n",
      "  scores = F.log_softmax(scores)\n"
     ]
    }
   ],
   "source": [
    "sentence = 'what are you?'\n",
    "answer = world.parley(sentence)"
   ]
  },
  {
   "cell_type": "code",
   "execution_count": 15,
   "metadata": {},
   "outputs": [
    {
     "name": "stdout",
     "output_type": "stream",
     "text": [
      "[Seq2Seq]: i do not . i drive a tricycle .\n"
     ]
    },
    {
     "name": "stderr",
     "output_type": "stream",
     "text": [
      "/Users/christoph/Documents/Roboy/ss18_showmaster/ParlAI/projects/roboy/ros_integration/roboys_persona_seq2seq.py:1775: UserWarning: Implicit dimension choice for softmax has been deprecated. Change the call to include dim=X as an argument.\n",
      "  attn_weights = F.softmax(attn_w_premask)\n",
      "/Users/christoph/Documents/Roboy/ss18_showmaster/ParlAI/projects/roboy/ros_integration/roboys_persona_seq2seq.py:1519: UserWarning: Implicit dimension choice for log_softmax has been deprecated. Change the call to include dim=X as an argument.\n",
      "  scores = F.log_softmax(scores)\n"
     ]
    }
   ],
   "source": [
    "sentence = 'can you walk?'\n",
    "answer = world.parley(sentence)"
   ]
  },
  {
   "cell_type": "code",
   "execution_count": 4,
   "metadata": {},
   "outputs": [
    {
     "name": "stdout",
     "output_type": "stream",
     "text": [
      "[Seq2Seq]: i am good how are you ?\n"
     ]
    },
    {
     "name": "stderr",
     "output_type": "stream",
     "text": [
      "/Users/christoph/Documents/Roboy/ss18_showmaster/ParlAI/projects/roboy/ros_integration/roboys_persona_seq2seq.py:1775: UserWarning: Implicit dimension choice for softmax has been deprecated. Change the call to include dim=X as an argument.\n",
      "  attn_weights = F.softmax(attn_w_premask)\n",
      "/Users/christoph/Documents/Roboy/ss18_showmaster/ParlAI/projects/roboy/ros_integration/roboys_persona_seq2seq.py:1519: UserWarning: Implicit dimension choice for log_softmax has been deprecated. Change the call to include dim=X as an argument.\n",
      "  scores = F.log_softmax(scores)\n"
     ]
    }
   ],
   "source": [
    "sentence = 'what are you?'\n",
    "answer = world.parley(sentence)"
   ]
  },
  {
   "cell_type": "code",
   "execution_count": null,
   "metadata": {},
   "outputs": [],
   "source": []
  },
  {
   "cell_type": "code",
   "execution_count": null,
   "metadata": {},
   "outputs": [],
   "source": []
  },
  {
   "cell_type": "code",
   "execution_count": 3,
   "metadata": {},
   "outputs": [
    {
     "name": "stdout",
     "output_type": "stream",
     "text": [
      "/Users/christoph/Documents/Roboy/ss18_showmaster/ParlAI/projects/roboy/ros_integration\n"
     ]
    }
   ],
   "source": [
    "import os\n",
    "path = os.getcwd()\n",
    "print(path)"
   ]
  },
  {
   "cell_type": "code",
   "execution_count": null,
   "metadata": {},
   "outputs": [],
   "source": []
  }
 ],
 "metadata": {
  "kernelspec": {
   "display_name": "Python 3",
   "language": "python",
   "name": "python3"
  },
  "language_info": {
   "codemirror_mode": {
    "name": "ipython",
    "version": 3
   },
   "file_extension": ".py",
   "mimetype": "text/x-python",
   "name": "python",
   "nbconvert_exporter": "python",
   "pygments_lexer": "ipython3",
   "version": "3.6.5"
  }
 },
 "nbformat": 4,
 "nbformat_minor": 2
}
